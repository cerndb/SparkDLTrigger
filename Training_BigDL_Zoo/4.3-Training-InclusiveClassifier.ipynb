{
 "cells": [
  {
   "cell_type": "markdown",
   "metadata": {},
   "source": [
    "## Traininig of the Inclusive classifier\n",
    "\n",
    "**4.3 Inclusive classifier** This trains the Inclusive classifier, a combination of the Particle-sequence classifier with the High Level Features classifier.\n",
    "\n",
    "To run this notebook we used the following configuration:\n",
    "* *Software stack*: Spark 2.4.3, analytics-zoo 0.7.0\n",
    "* *Platform*: CentOS 7, Python 3.6\n",
    "* *Spark cluster*: Analytix"
   ]
  },
  {
   "cell_type": "code",
   "execution_count": 1,
   "metadata": {},
   "outputs": [],
   "source": [
    "# pip install pyspark or use your favorite way to set Spark Home, here we use findspark\n",
    "import findspark\n",
    "findspark.init('/home/luca/Spark/spark-2.4.3-bin-hadoop2.7') #set path to SPARK_HOME"
   ]
  },
  {
   "cell_type": "code",
   "execution_count": 2,
   "metadata": {},
   "outputs": [],
   "source": [
    "# Configure according to your environment\n",
    "from pyspark.sql import SparkSession\n",
    "\n",
    "pyspark_python = \"<path to python>/bin/python\"\n",
    "analytics_zoo_jar = \"<path>/public/analytics-zoo-bigdl_0.10.0-spark_2.4.3-0.7.0-jar-with-dependencies.jar\"\n",
    "analytics_zoo_python_api = \"<path>/analytics-zoo-bigdl_0.10.0-spark_2.4.3-0.7.0-python-api.zip\"\n",
    "\n",
    "spark = SparkSession.builder \\\n",
    "        .appName(\"4.3-Training-InclusiveClassifier\") \\\n",
    "        .master(\"yarn\") \\\n",
    "        .config(\"spark.driver.memory\",\"8g\") \\\n",
    "        .config(\"spark.executor.memory\",\"32g\") \\\n",
    "        .config(\"spark.executor.cores\",\"12\") \\\n",
    "        .config(\"spark.executor.instances\",\"30\") \\\n",
    "        .config(\"spark.dynamicAllocation.enabled\",\"false\") \\\n",
    "        .config(\"spark.shuffle.reduceLocality.enabled\",\"false\") \\\n",
    "        .config(\"spark.shuffle.blockTransferService\",\"nio\") \\\n",
    "        .config(\"spark.scheduler.minRegisteredResourcesRatio\",\"1.0\") \\\n",
    "        .config(\"spark.speculation\",\"false\") \\\n",
    "        .config(\"spark.eventLog.enabled\",\"false\") \\\n",
    "        .config(\"spark.jars\",analytics_zoo_jar) \\\n",
    "        .config(\"spark.submit.pyFiles\",analytics_zoo_python_api) \\\n",
    "        .config(\"spark.pyspark.python\",pyspark_python) \\\n",
    "        .getOrCreate()"
   ]
  },
  {
   "cell_type": "code",
   "execution_count": 3,
   "metadata": {},
   "outputs": [
    {
     "data": {
      "text/html": [
       "\n",
       "            <div>\n",
       "                <p><b>SparkSession - in-memory</b></p>\n",
       "                \n",
       "        <div>\n",
       "            <p><b>SparkContext</b></p>\n",
       "\n",
       "            <p><a href=\"http://driverpc.cern.ch:4040\">Spark UI</a></p>\n",
       "\n",
       "            <dl>\n",
       "              <dt>Version</dt>\n",
       "                <dd><code>v2.4.3</code></dd>\n",
       "              <dt>Master</dt>\n",
       "                <dd><code>yarn</code></dd>\n",
       "              <dt>AppName</dt>\n",
       "                <dd><code>4.3-Training-InclusiveClassifier</code></dd>\n",
       "            </dl>\n",
       "        </div>\n",
       "        \n",
       "            </div>\n",
       "        "
      ],
      "text/plain": [
       "<pyspark.sql.session.SparkSession at 0x7f7f3bfbc048>"
      ]
     },
     "execution_count": 3,
     "metadata": {},
     "output_type": "execute_result"
    }
   ],
   "source": [
    "# Check if Spark Session has been created correctly\n",
    "spark"
   ]
  },
  {
   "cell_type": "markdown",
   "metadata": {},
   "source": [
    "## Load train and test dataset"
   ]
  },
  {
   "cell_type": "code",
   "execution_count": 4,
   "metadata": {},
   "outputs": [],
   "source": [
    "PATH = \"hdfs://analytix/Training/Spark/TopologyClassifier/\"\n",
    "\n",
    "trainDF = spark.read.format('parquet')\\\n",
    "        .load(PATH + 'trainUndersampled.parquet')\\\n",
    "        .select(['GRU_input', 'HLF_input', 'encoded_label'])\n",
    "        \n",
    "testDF = spark.read.format('parquet')\\\n",
    "        .load(PATH + 'testUndersampled.parquet')\\\n",
    "        .select(['GRU_input', 'HLF_input', 'encoded_label'])"
   ]
  },
  {
   "cell_type": "code",
   "execution_count": 5,
   "metadata": {},
   "outputs": [
    {
     "name": "stdout",
     "output_type": "stream",
     "text": [
      "root\n",
      " |-- GRU_input: array (nullable = true)\n",
      " |    |-- element: array (containsNull = true)\n",
      " |    |    |-- element: double (containsNull = true)\n",
      " |-- HLF_input: vector (nullable = true)\n",
      " |-- encoded_label: vector (nullable = true)\n",
      "\n"
     ]
    }
   ],
   "source": [
    "trainDF.printSchema()"
   ]
  },
  {
   "cell_type": "code",
   "execution_count": 6,
   "metadata": {},
   "outputs": [
    {
     "name": "stdout",
     "output_type": "stream",
     "text": [
      "Number of events in the test dataset: 856090\n",
      "Number of events in the training dataset: 3426083\n"
     ]
    }
   ],
   "source": [
    "print(\"Number of events in the test dataset:\", testDF.count())\n",
    "\n",
    "print(\"Number of events in the training dataset:\", trainDF.count())"
   ]
  },
  {
   "cell_type": "markdown",
   "metadata": {},
   "source": [
    "## Create the model"
   ]
  },
  {
   "cell_type": "code",
   "execution_count": 7,
   "metadata": {},
   "outputs": [
    {
     "name": "stderr",
     "output_type": "stream",
     "text": [
     ]
    }
   ],
   "source": [
    "# Init analytics zoo\n",
    "from zoo.common.nncontext import *\n",
    "sc = init_nncontext(\"Inclusive Classifier\")"
   ]
  },
  {
   "cell_type": "code",
   "execution_count": 8,
   "metadata": {},
   "outputs": [
    {
     "name": "stdout",
     "output_type": "stream",
     "text": [
      "creating: createZooKerasSequential\n",
      "creating: createZooKerasMasking\n",
      "creating: createZooKerasGRU\n",
      "creating: createZooKerasDropout\n",
      "creating: createZooKerasSequential\n",
      "creating: createZooKerasDropout\n",
      "creating: createZooKerasMerge\n",
      "creating: createZooKerasSequential\n",
      "creating: createZooKerasDense\n",
      "creating: createZooKerasDense\n"
     ]
    }
   ],
   "source": [
    "from zoo.pipeline.api.keras.optimizers import Adam\n",
    "from zoo.pipeline.api.keras.models import Sequential\n",
    "from zoo.pipeline.api.keras.layers.core import *\n",
    "from zoo.pipeline.api.keras.layers.recurrent import GRU\n",
    "from zoo.pipeline.api.keras.engine.topology import Merge\n",
    "\n",
    "## GRU branch\n",
    "gruBranch = Sequential() \\\n",
    "            .add(Masking(0.0, input_shape=(801, 19))) \\\n",
    "            .add(GRU(\n",
    "                output_dim=50,\n",
    "                activation='tanh'\n",
    "            )) \\\n",
    "            .add(Dropout(0.2)) \\\n",
    "\n",
    "## HLF branch\n",
    "hlfBranch = Sequential() \\\n",
    "            .add(Dropout(0.2, input_shape=(14,)))\n",
    "\n",
    "## Concatenate the branches\n",
    "branches = Merge(layers=[gruBranch, hlfBranch], mode='concat')\n",
    "\n",
    "## Create the model\n",
    "model = Sequential() \\\n",
    "        .add(branches) \\\n",
    "        .add(Dense(25, activation='relu')) \\\n",
    "        .add(Dense(3, activation='softmax'))"
   ]
  },
  {
   "cell_type": "markdown",
   "metadata": {},
   "source": [
    "## Create train and validation RDD\n",
    "\n",
    "We need to create an RDD of `Sample`, a tuple of the form (`features`, `label`). The two elements of this touple should be `numpy arrays`. "
   ]
  },
  {
   "cell_type": "code",
   "execution_count": 9,
   "metadata": {},
   "outputs": [],
   "source": [
    "from bigdl.util.common import Sample\n",
    "import numpy as np\n",
    "\n",
    "trainRDD = trainDF.rdd.map(lambda row: Sample.from_ndarray(\n",
    "    [np.array(row.GRU_input), np.array(row.HLF_input)],\n",
    "    np.array(row.encoded_label)\n",
    "))\n",
    "\n",
    "testRDD = testDF.rdd.map(lambda row: Sample.from_ndarray(\n",
    "    [np.array(row.GRU_input), np.array(row.HLF_input)],\n",
    "    np.array(row.encoded_label)\n",
    "))"
   ]
  },
  {
   "cell_type": "code",
   "execution_count": 10,
   "metadata": {},
   "outputs": [
    {
     "data": {
      "text/plain": [
       "[Sample: features: [JTensor: storage: [ 2.671823   -0.34287256 -0.58039516 ...  0.         28.284271\n",
       "  -1.6912433 ], shape: [801  19], float, JTensor: storage: [0.03668948 0.00687758 0.11903605 0.00322493 0.2        0.125\n",
       "  0.04384273 0.6820271  0.53919435 0.07416677 0.0325799  0.\n",
       "  0.         0.        ], shape: [14], float], labels: [JTensor: storage: [0. 1. 0.], shape: [3], float]]"
      ]
     },
     "execution_count": 10,
     "metadata": {},
     "output_type": "execute_result"
    }
   ],
   "source": [
    "# Let's have a look at one element of trainRDD\n",
    "trainRDD.take(1)"
   ]
  },
  {
   "cell_type": "markdown",
   "metadata": {},
   "source": [
    "We can see that `Sample.feature` is  now composed by the list of 801 particles with 19 features each (`shape=[801 19]`) plus the HLF (`shape=[14]`) and the encoded label (`shape=[3]`)."
   ]
  },
  {
   "cell_type": "markdown",
   "metadata": {},
   "source": [
    "## Optimizer setup and training"
   ]
  },
  {
   "cell_type": "code",
   "execution_count": 12,
   "metadata": {},
   "outputs": [],
   "source": [
    "# Set of hyperparameters\n",
    "numEpochs = 50\n",
    "\n",
    "# The batch used by BDL must be a multiple of numExecutors * executorCores\n",
    "# Because data will be equally distibuted inside each executor\n",
    "\n",
    "workerBatch = 32\n",
    "#workerBatch = 128\n",
    "\n",
    "numExecutors = int(spark.conf.get('spark.executor.instances'))\n",
    "\n",
    "executorCores = int(spark.conf.get('spark.executor.cores'))\n",
    "\n",
    "BDLbatch = workerBatch * numExecutors * executorCores"
   ]
  },
  {
   "cell_type": "code",
   "execution_count": 13,
   "metadata": {},
   "outputs": [
    {
     "name": "stdout",
     "output_type": "stream",
     "text": [
      "creating: createAdam\n",
      "creating: createCategoricalCrossEntropy\n",
      "creating: createCategoricalCrossEntropy\n",
      "creating: createLoss\n"
     ]
    }
   ],
   "source": [
    "from bigdl.optim.optimizer import *\n",
    "from bigdl.nn.criterion import CategoricalCrossEntropy\n",
    "\n",
    "optim_method = Adam()\n",
    "#optim_method = Adam(learningrate=0.002)\n",
    "\n",
    "model.compile(optimizer=optim_method, loss=CategoricalCrossEntropy(), metrics=[Loss(CategoricalCrossEntropy())])"
   ]
  },
  {
   "cell_type": "markdown",
   "metadata": {},
   "source": [
    "Let's define a directory to store logs (i.e. train and validation losses) and save models"
   ]
  },
  {
   "cell_type": "code",
   "execution_count": 14,
   "metadata": {},
   "outputs": [
    {
     "name": "stdout",
     "output_type": "stream",
     "text": [
      "Saving logs to /tmp/InclusiveClassifier\n"
     ]
    }
   ],
   "source": [
    "# name of our application\n",
    "appName = \"InclusiveClassifier\"\n",
    "\n",
    "# Change it! \n",
    "logDir = \"/tmp\"\n",
    "\n",
    "# Check if there is already an application with the same name \n",
    "# and remove it, otherwise logs will be appended to that app\n",
    "import os\n",
    "try:\n",
    "    os.system('rm -rf '+logDir+'/'+appName)\n",
    "except:\n",
    "    pass\n",
    "\n",
    "print(\"Saving logs to {}\".format(logDir+'/'+appName))"
   ]
  },
  {
   "cell_type": "code",
   "execution_count": 15,
   "metadata": {},
   "outputs": [],
   "source": [
    "model.set_tensorboard(logDir, appName)"
   ]
  },
  {
   "cell_type": "markdown",
   "metadata": {},
   "source": [
    "We are now ready to launch the training.\n",
    "\n",
    "Warning relevant for CERN SWAN service users: During the training it would be better to shutdown the Toggle Spark Monitoring Display because each iteration is seen as a Spark job, therefore the toggle will try to display everything causing problem to the browser."
   ]
  },
  {
   "cell_type": "code",
   "execution_count": 16,
   "metadata": {},
   "outputs": [
    {
     "name": "stdout",
     "output_type": "stream",
     "text": [
      "CPU times: user 2.74 s, sys: 1.57 s, total: 4.31 s\n",
      "Wall time: 8h 24min 58s\n"
     ]
    }
   ],
   "source": [
    "%time model.fit(x=trainRDD, batch_size=BDLbatch, nb_epoch=numEpochs, validation_data=testRDD, distributed=True)"
   ]
  },
  {
   "cell_type": "markdown",
   "metadata": {},
   "source": [
    "## Plot loss"
   ]
  },
  {
   "cell_type": "code",
   "execution_count": 39,
   "metadata": {},
   "outputs": [
    {
     "name": "stdout",
     "output_type": "stream",
     "text": [
      "creating: createTrainSummary\n",
      "creating: createValidationSummary\n"
     ]
    },
    {
     "data": {
      "image/png": "[encoded data removed]",
      "text/plain": [
       "<Figure size 1152x720 with 1 Axes>"
      ]
     },
     "metadata": {},
     "output_type": "display_data"
    }
   ],
   "source": [
    "%matplotlib inline\n",
    "import matplotlib.pyplot as plt\n",
    "plt.style.use('seaborn-darkgrid')\n",
    "plt.rcParams['figure.figsize'] = [16, 10]\n",
    "\n",
    "trainSummary = TrainSummary(log_dir=logDir,app_name=appName)\n",
    "loss = np.array(trainSummary.read_scalar(\"Loss\"))\n",
    "valSummary = ValidationSummary(log_dir=logDir,app_name=appName)\n",
    "val_loss = np.array(valSummary.read_scalar(\"Loss\"))\n",
    "\n",
    "plt.plot(loss[:,0], loss[:,1], label=\"Training loss\")\n",
    "plt.plot(val_loss[:,0], val_loss[:,1], label=\"Validation loss\", color='crimson', alpha=0.8)\n",
    "plt.xlabel('Iteration')\n",
    "plt.ylabel('Loss')\n",
    "plt.legend()\n",
    "plt.title(\"Inclusive classifier loss\")\n",
    "plt.show()"
   ]
  },
  {
   "cell_type": "markdown",
   "metadata": {},
   "source": [
    "## Save the model"
   ]
  },
  {
   "cell_type": "code",
   "execution_count": 18,
   "metadata": {},
   "outputs": [],
   "source": [
    "modelDir = logDir + '/models'\n",
    "model.saveModel(\n",
    "            modelPath = modelDir + '/' + appName + '.bigdl',\n",
    "            weightPath = modelDir + '/' + appName + '.bin',\n",
    "            over_write = True\n",
    ")"
   ]
  },
  {
   "cell_type": "markdown",
   "metadata": {},
   "source": [
    "It is possible to load the model in the following way:\n",
    "```Python\n",
    "model = Model.loadModel(modelPath=modelPath+'.bigdl', weightPath=modelPath+'.bin')\n",
    "```"
   ]
  },
  {
   "cell_type": "markdown",
   "metadata": {},
   "source": [
    "## Prediction"
   ]
  },
  {
   "cell_type": "code",
   "execution_count": 19,
   "metadata": {},
   "outputs": [],
   "source": [
    "pred = model.predict(testRDD)"
   ]
  },
  {
   "cell_type": "code",
   "execution_count": 20,
   "metadata": {},
   "outputs": [],
   "source": [
    "y_pred = np.asarray(pred.collect())\n",
    "y_true = np.asarray(testDF.select('encoded_label').rdd\\\n",
    "                    .map(lambda row: np.asarray(row.encoded_label)).collect())"
   ]
  },
  {
   "cell_type": "code",
   "execution_count": 21,
   "metadata": {},
   "outputs": [],
   "source": [
    "from sklearn.metrics import roc_curve, auc\n",
    "fpr = dict()\n",
    "tpr = dict()\n",
    "roc_auc = dict()\n",
    "\n",
    "for i in range(3):\n",
    "    fpr[i], tpr[i], _ = roc_curve(y_true[:, i], y_pred[:, i])\n",
    "    roc_auc[i] = auc(fpr[i], tpr[i])"
   ]
  },
  {
   "cell_type": "code",
   "execution_count": 36,
   "metadata": {},
   "outputs": [
    {
     "data": {
      "image/png": "[encoded data removed]",
      "text/plain": [
       "<Figure size 1296x864 with 1 Axes>"
      ]
     },
     "metadata": {},
     "output_type": "display_data"
    }
   ],
   "source": [
    "plt.figure()\n",
    "plt.rcParams['figure.figsize'] = [16, 10]\n",
    "plt.plot(fpr[0], tpr[0], lw=2, \n",
    "         label='Inclusive classifier (AUC) = %0.4f' % roc_auc[0])\n",
    "plt.plot([0, 1], [0, 1], linestyle='--')\n",
    "plt.xlim([0.0, 1.0])\n",
    "plt.ylim([0.0, 1.05])\n",
    "plt.xlabel('Background Contamination (FPR)')\n",
    "plt.ylabel('Signal Efficiency (TPR)')\n",
    "plt.title('$tt$ selector')\n",
    "plt.legend(loc=\"lower right\")\n",
    "plt.show()"
   ]
  },
  {
   "cell_type": "markdown",
   "metadata": {},
   "source": [
    "## Confusion Matrix"
   ]
  },
  {
   "cell_type": "code",
   "execution_count": 23,
   "metadata": {},
   "outputs": [
    {
     "name": "stdout",
     "output_type": "stream",
     "text": [
      "Accuracy of the Inclusive classifier: 0.9517\n"
     ]
    }
   ],
   "source": [
    "from sklearn.metrics import accuracy_score\n",
    "\n",
    "print('Accuracy of the Inclusive classifier: {:.4f}'.format(\n",
    "    accuracy_score(np.argmax(y_true, axis=1),np.argmax(y_pred, axis=1))))"
   ]
  },
  {
   "cell_type": "code",
   "execution_count": 40,
   "metadata": {},
   "outputs": [
    {
     "data": {
      "image/png": "[encoded data removed]",
      "text/plain": [
       "<Figure size 1152x720 with 2 Axes>"
      ]
     },
     "metadata": {},
     "output_type": "display_data"
    }
   ],
   "source": [
    "import seaborn as sns\n",
    "from sklearn.metrics import confusion_matrix\n",
    "labels_name = ['qcd', 'tt', 'wjets']\n",
    "labels = [0,1,2]\n",
    "\n",
    "cm = confusion_matrix(np.argmax(y_true, axis=1), np.argmax(y_pred, axis=1), labels=labels)\n",
    "\n",
    "## Normalize CM\n",
    "cm = cm / cm.astype(np.float).sum(axis=1)\n",
    "\n",
    "fig, ax = plt.subplots()\n",
    "ax = sns.heatmap(cm, annot=True, fmt='g')\n",
    "ax.xaxis.set_ticklabels(labels_name)\n",
    "ax.yaxis.set_ticklabels(labels_name)\n",
    "plt.rcParams['figure.figsize'] = [16, 10]\n",
    "plt.title('Confusion matrix - Inclusive classifier')\n",
    "plt.xlabel('True labels')\n",
    "plt.ylabel('Predicted labels')\n",
    "plt.show()"
   ]
  },
  {
   "cell_type": "code",
   "execution_count": 25,
   "metadata": {},
   "outputs": [],
   "source": [
    "spark.stop()"
   ]
  },
  {
   "cell_type": "code",
   "execution_count": null,
   "metadata": {},
   "outputs": [],
   "source": []
  }
 ],
 "metadata": {
  "kernelspec": {
   "display_name": "Python 3",
   "language": "python",
   "name": "python3"
  },
  "language_info": {
   "codemirror_mode": {
    "name": "ipython",
    "version": 3
   },
   "file_extension": ".py",
   "mimetype": "text/x-python",
   "name": "python",
   "nbconvert_exporter": "python",
   "pygments_lexer": "ipython3",
   "version": "3.6.8"
  },
  "sparkconnect": {
   "bundled_options": [],
   "list_of_options": [
    {
     "name": "spark.jars",
     "value": "/eos/project/s/swan/public/BigDL/bigdl-SPARK_2.3-0.7.0-jar-with-dependencies.jar"
    },
    {
     "name": "spark.scheduler.minRegisteredResourcesRatio",
     "value": "1.0"
    },
    {
     "name": "spark.shuffle.reduceLocality.enabled",
     "value": "false"
    },
    {
     "name": "spark.shuffle.blockTransferService",
     "value": "nio"
    },
    {
     "name": "spark.dynamicAllocation.enabled",
     "value": "false"
    },
    {
     "name": "spark.speculation",
     "value": "false"
    },
    {
     "name": "spark.executor.instances",
     "value": "5"
    },
    {
     "name": "spark.executor.cores",
     "value": "4"
    },
    {
     "name": "spark.executor.memory",
     "value": "14G"
    },
    {
     "name": "spark.driver.memory",
     "value": "8G"
    },
    {
     "name": "spark.yarn.dist.files",
     "value": "/eos/project/s/swan/public/BigDL/bigdl-0.7.0-python-api.zip"
    }
   ]
  }
 },
 "nbformat": 4,
 "nbformat_minor": 4
}
